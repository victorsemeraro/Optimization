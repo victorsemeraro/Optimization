{
 "cells": [
  {
   "cell_type": "markdown",
   "id": "0e20c12b",
   "metadata": {},
   "source": [
    "# <center> <u> Optimization Routines for Neural Networks </u> </center>"
   ]
  },
  {
   "cell_type": "code",
   "execution_count": null,
   "id": "134152f9",
   "metadata": {},
   "outputs": [],
   "source": []
  },
  {
   "cell_type": "code",
   "execution_count": null,
   "id": "66c02047",
   "metadata": {},
   "outputs": [],
   "source": []
  },
  {
   "cell_type": "markdown",
   "id": "2e5db21f",
   "metadata": {},
   "source": [
    "## <u> Gradient Descent </u> "
   ]
  },
  {
   "cell_type": "code",
   "execution_count": null,
   "id": "ad518d64",
   "metadata": {},
   "outputs": [],
   "source": []
  },
  {
   "cell_type": "code",
   "execution_count": null,
   "id": "727f17f4",
   "metadata": {},
   "outputs": [],
   "source": []
  },
  {
   "cell_type": "markdown",
   "id": "1a847609",
   "metadata": {},
   "source": [
    "## <u> Stochastic Gradient Descent </u> "
   ]
  },
  {
   "cell_type": "code",
   "execution_count": null,
   "id": "94b5cbaf",
   "metadata": {},
   "outputs": [],
   "source": []
  },
  {
   "cell_type": "code",
   "execution_count": null,
   "id": "803072b7",
   "metadata": {},
   "outputs": [],
   "source": []
  },
  {
   "cell_type": "markdown",
   "id": "00ecbd68",
   "metadata": {},
   "source": [
    "## <u> Momentum Descent </u> "
   ]
  },
  {
   "cell_type": "code",
   "execution_count": null,
   "id": "33aef8ef",
   "metadata": {},
   "outputs": [],
   "source": []
  },
  {
   "cell_type": "code",
   "execution_count": null,
   "id": "b79c8915",
   "metadata": {},
   "outputs": [],
   "source": []
  },
  {
   "cell_type": "markdown",
   "id": "8956cc5d",
   "metadata": {},
   "source": [
    "## <u> Annealing Descent </u> "
   ]
  },
  {
   "cell_type": "code",
   "execution_count": null,
   "id": "8e12927f",
   "metadata": {},
   "outputs": [],
   "source": []
  },
  {
   "cell_type": "code",
   "execution_count": null,
   "id": "05bf1982",
   "metadata": {},
   "outputs": [],
   "source": []
  },
  {
   "cell_type": "markdown",
   "id": "7a1ef384",
   "metadata": {},
   "source": [
    "## <u> Adaptive Movement Estimation (ADAM) </u>"
   ]
  },
  {
   "cell_type": "code",
   "execution_count": null,
   "id": "68199548",
   "metadata": {},
   "outputs": [],
   "source": []
  },
  {
   "cell_type": "code",
   "execution_count": null,
   "id": "cfafc81f",
   "metadata": {},
   "outputs": [],
   "source": []
  },
  {
   "cell_type": "code",
   "execution_count": null,
   "id": "44a372a9",
   "metadata": {},
   "outputs": [],
   "source": []
  }
 ],
 "metadata": {
  "kernelspec": {
   "display_name": "Python 3 (ipykernel)",
   "language": "python",
   "name": "python3"
  },
  "language_info": {
   "codemirror_mode": {
    "name": "ipython",
    "version": 3
   },
   "file_extension": ".py",
   "mimetype": "text/x-python",
   "name": "python",
   "nbconvert_exporter": "python",
   "pygments_lexer": "ipython3",
   "version": "3.10.2"
  }
 },
 "nbformat": 4,
 "nbformat_minor": 5
}
