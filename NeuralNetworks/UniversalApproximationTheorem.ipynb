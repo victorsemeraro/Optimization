{
 "cells": [
  {
   "cell_type": "markdown",
   "id": "172af966",
   "metadata": {},
   "source": [
    "# <center> <u> Universal Approximation Theorem </u> </center> "
   ]
  },
  {
   "cell_type": "markdown",
   "id": "0361be1e",
   "metadata": {},
   "source": [
    "## <u> Cost Function </u>\n",
    "\n",
    "## <center> $ \\frac{1}{2} \\sum_{n=1}^{N} \\sum_{k=1}^{K} (\\hat{y_{k}}^{(n)} - y_{k}^{(n)})^{2} $</center> \n",
    "\n",
    "## <center> $ - \\sum_{n=1}^{N} \\sum_{k=1}^{K} (y_{k}^{(n)} \\ln(\\hat{y_{k}}^{(n)}) + (1 - y_{k}^{(n)}) (1 - \\ln(y_{k}^{(n)}))) $ </center>\n",
    "\n",
    "## <center> $ y_{k}^{(n)} = g(z) = g(WA + b) $ </center>"
   ]
  },
  {
   "cell_type": "markdown",
   "id": "551b8d32",
   "metadata": {},
   "source": [
    "## <u> Backpropagation </u> \n",
    "\n",
    "## <center> $ \\frac{\\partial J}{\\partial w_{j, j'}^{(l)}} $ </center>\n",
    "\n",
    "## <center> $ \\frac{\\partial J}{\\partial b_{j, j'}^{(l)}} $ </center> \n",
    "\n",
    "## <u> Derivation </u> \n",
    "\n",
    "## <center> $ \\delta_{j'}^{(l)} = \\frac{\\partial J}{\\partial z_{j'}^{(l)}} $ </center>\n",
    "\n",
    "## <center> $ \\delta_{j}^{(l-1)} = \\frac{\\partial J}{\\partial z_{j}^{(l-1)}} = \\sum_{j'} \\frac{\\partial J}{\\partial z_{j'}^{(l)}} \\frac{\\partial z_{j'}^{(l)}}{\\partial z_{j}^{(l-1)}} $ </center>\n",
    "\n",
    "## <center> $ z_{j'}^{(l)} = \\sum_{j'} w_{j, j'}^{(l)} a_{j}^{(l-1)} + b_{j'}^{(l)} = \\sum_{j} w_{j, j'}^{(l)} g^{(l-1)} (z_{j}^{(l-1)}) + b_{j'}^{(l)} $ </center>\n",
    "\n",
    "## <center> $ \\delta_{j}^{(l-1)} = \\frac{d g^{(l-1)}}{dz}|_{z_{j}^{(l-1)}} \\sum_{j'} \\frac{\\partial J}{\\partial z_{j'}^{(l)}} w_{j, j'}^{(l)} = \\frac{d g^{(l-1)}}{dz}|_{z_{j}^{(l-1)}} \\sum_{j'} \\delta_{j'}^{(l)} w_{j, j'}^{(l)} $ </center>"
   ]
  },
  {
   "cell_type": "markdown",
   "id": "952e5c27",
   "metadata": {},
   "source": [
    "## <u> Gradient </u> \n",
    "\n",
    "## <center> $ \\frac{\\partial J}{\\partial w_{j, j'}^{(l)}} = \\frac{\\partial J}{\\partial z_{j'}^{(l)}}  \\frac{\\partial z_{j}^{(l)}}{\\partial w_{j, j'}^{(l)}}  = \\delta_{j'}^{(l)} a_{j}^{(l-1)} $ </center>\n",
    "\n",
    "## <center> $ \\frac{\\partial J}{\\partial b_{j'}^{(l)}} = \\delta_{j'}^{(l)} $ </center>"
   ]
  },
  {
   "cell_type": "markdown",
   "id": "149a45d9",
   "metadata": {},
   "source": [
    "## <u> Algorithm </u> \n",
    "\n",
    "## <ul> 1. Initialize Weights and Biases </ul>\n",
    "\n",
    "## <ul> 2. Pick One of the Data Points at Random </ul>\n",
    "\n",
    "## <ul> 3. Calculate Contribution to the Cost Function </ul>\n",
    "\n",
    "## <ul> 4. Calculate $ \\delta $ </ul>\n",
    "\n",
    "## <center> $ \\delta^{(L)} = \\frac{dg^{(L)}}{dz}|_{z_{j}^{(L)}} (\\hat{y} - y) $ </center>\n",
    "\n",
    "## <center> $ \\delta_{j}^{(l-1)} = \\frac{dg^{(l-1)}}{dz}|_{z_{j}^{(l-1)}} \\sum_{j'} \\delta_{j'}^{(l)} w_{j, j'}^{(l)}$ </center>\n",
    "\n",
    "## <ul> 5. Update Weights and Biases </ul>    \n",
    "\n",
    "## <center> $ w_{j, j'}^{(l)} = w_{j, j'}^{(l)} - \\gamma \\frac{\\partial J}{\\partial w_{j, j'}^{(l)}} = w_{j, j'}^{(l)} - \\gamma \\delta_{j'}^{(l)} a_{j}^{(l-1)} $ </center>\n",
    "\n",
    "## <center> $ b_{j'}^{(l)} = b_{j'}^{(l)} - \\gamma \\frac{\\partial J}{\\partial b_{j'}^{(l)}} = b_{j'}^{(l)} - \\gamma \\delta_{j'}^{(l)}$ </center>"
   ]
  },
  {
   "cell_type": "code",
   "execution_count": null,
   "id": "7b4acd95",
   "metadata": {},
   "outputs": [],
   "source": []
  }
 ],
 "metadata": {
  "kernelspec": {
   "display_name": "Python 3 (ipykernel)",
   "language": "python",
   "name": "python3"
  },
  "language_info": {
   "codemirror_mode": {
    "name": "ipython",
    "version": 3
   },
   "file_extension": ".py",
   "mimetype": "text/x-python",
   "name": "python",
   "nbconvert_exporter": "python",
   "pygments_lexer": "ipython3",
   "version": "3.10.2"
  }
 },
 "nbformat": 4,
 "nbformat_minor": 5
}
