{
 "cells": [
  {
   "cell_type": "markdown",
   "id": "5c927bde",
   "metadata": {},
   "source": [
    "# <center> <u> Optimization Routines for Neural Networks </u> </center>"
   ]
  },
  {
   "cell_type": "markdown",
   "id": "44438e08",
   "metadata": {},
   "source": [
    "## <u> Gradient Descent </u> "
   ]
  },
  {
   "cell_type": "code",
   "execution_count": null,
   "id": "8ca77524",
   "metadata": {},
   "outputs": [],
   "source": []
  },
  {
   "cell_type": "code",
   "execution_count": null,
   "id": "3b987bdf",
   "metadata": {},
   "outputs": [],
   "source": []
  },
  {
   "cell_type": "markdown",
   "id": "357dce3e",
   "metadata": {},
   "source": [
    "## <u> Stochastic Gradient Descent </u> "
   ]
  },
  {
   "cell_type": "code",
   "execution_count": null,
   "id": "1619e123",
   "metadata": {},
   "outputs": [],
   "source": []
  },
  {
   "cell_type": "code",
   "execution_count": null,
   "id": "66b3dd5f",
   "metadata": {},
   "outputs": [],
   "source": []
  },
  {
   "cell_type": "markdown",
   "id": "79ca8487",
   "metadata": {},
   "source": [
    "## <u> Momentum Descent </u> "
   ]
  },
  {
   "cell_type": "code",
   "execution_count": null,
   "id": "22e86399",
   "metadata": {},
   "outputs": [],
   "source": []
  },
  {
   "cell_type": "code",
   "execution_count": null,
   "id": "6ce5fa96",
   "metadata": {},
   "outputs": [],
   "source": []
  },
  {
   "cell_type": "markdown",
   "id": "6cc1bce9",
   "metadata": {},
   "source": [
    "## <u> Annealing Descent </u> "
   ]
  },
  {
   "cell_type": "code",
   "execution_count": null,
   "id": "55e50952",
   "metadata": {},
   "outputs": [],
   "source": []
  },
  {
   "cell_type": "code",
   "execution_count": null,
   "id": "0ef323c9",
   "metadata": {},
   "outputs": [],
   "source": []
  },
  {
   "cell_type": "markdown",
   "id": "c66ee50b",
   "metadata": {},
   "source": [
    "## <u> Adaptive Movement Estimation (ADAM) </u>"
   ]
  },
  {
   "cell_type": "code",
   "execution_count": null,
   "id": "46130ea1",
   "metadata": {},
   "outputs": [],
   "source": []
  },
  {
   "cell_type": "code",
   "execution_count": null,
   "id": "11033a60",
   "metadata": {},
   "outputs": [],
   "source": []
  },
  {
   "cell_type": "code",
   "execution_count": null,
   "id": "2b415c83",
   "metadata": {},
   "outputs": [],
   "source": []
  }
 ],
 "metadata": {
  "kernelspec": {
   "display_name": "Python 3 (ipykernel)",
   "language": "python",
   "name": "python3"
  },
  "language_info": {
   "codemirror_mode": {
    "name": "ipython",
    "version": 3
   },
   "file_extension": ".py",
   "mimetype": "text/x-python",
   "name": "python",
   "nbconvert_exporter": "python",
   "pygments_lexer": "ipython3",
   "version": "3.10.2"
  }
 },
 "nbformat": 4,
 "nbformat_minor": 5
}
