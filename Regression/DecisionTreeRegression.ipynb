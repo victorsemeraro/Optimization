{
 "cells": [
  {
   "cell_type": "markdown",
   "id": "14e61066",
   "metadata": {},
   "source": [
    "## <center> Decision Tree Regression </center> \n",
    "\n",
    "## 1. <u> Vanilla Decision Tree </u> \n",
    "\n",
    "#### - \n",
    "\n",
    "## 2. <u> Gradient Boosting </u>\n",
    "\n",
    "#### - \n",
    "\n",
    "## 3. <u> Adaboost </u> \n",
    "\n",
    "#### - \n",
    "\n",
    "## 4. <u> Random Forstest </u> \n",
    "\n",
    "#### - "
   ]
  },
  {
   "cell_type": "code",
   "execution_count": null,
   "id": "78d0df91",
   "metadata": {},
   "outputs": [],
   "source": []
  },
  {
   "cell_type": "code",
   "execution_count": null,
   "id": "ef347fe6",
   "metadata": {},
   "outputs": [],
   "source": []
  },
  {
   "cell_type": "code",
   "execution_count": null,
   "id": "c25d3305",
   "metadata": {},
   "outputs": [],
   "source": []
  },
  {
   "cell_type": "code",
   "execution_count": null,
   "id": "044c0c94",
   "metadata": {},
   "outputs": [],
   "source": []
  },
  {
   "cell_type": "code",
   "execution_count": null,
   "id": "226fc61a",
   "metadata": {},
   "outputs": [],
   "source": []
  }
 ],
 "metadata": {
  "kernelspec": {
   "display_name": "Python 3 (ipykernel)",
   "language": "python",
   "name": "python3"
  },
  "language_info": {
   "codemirror_mode": {
    "name": "ipython",
    "version": 3
   },
   "file_extension": ".py",
   "mimetype": "text/x-python",
   "name": "python",
   "nbconvert_exporter": "python",
   "pygments_lexer": "ipython3",
   "version": "3.10.2"
  }
 },
 "nbformat": 4,
 "nbformat_minor": 5
}
