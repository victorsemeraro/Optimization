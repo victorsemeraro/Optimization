{
 "cells": [
  {
   "cell_type": "markdown",
   "id": "d99afee8",
   "metadata": {},
   "source": [
    "# <center> <u> XGBoost </u> </center> "
   ]
  },
  {
   "cell_type": "markdown",
   "id": "a3a28269",
   "metadata": {},
   "source": [
    "## <u> Objective Function </u>\n",
    "\n",
    "## <center> $ \\hat{f_{0}}(x) = \\arg \\min \\sum_{i=1}^{N} L(y_{i}, \\theta) $ </center>\n",
    "\n",
    "## <u> Compute Gradient </u> \n",
    "\n",
    "## <center> $ \\hat{g}(x_{i}) = \\frac{\\partial L(y_{i}, \\theta)}{\\partial f(x_{i})} $ </center>\n",
    "\n",
    "## <u> Compute Hessian </u>\n",
    "\n",
    "## <center> $ \\hat{h}(x_{i}) = \\frac{\\partial^{2} L(y_{i}, \\theta)}{\\partial f(x_{i})^{2}} $ </center>\n",
    "\n",
    "## <u> Fit Weak Learner </u>\n",
    "\n",
    "## <center> $ \\hat{\\theta} = \\arg \\min \\sum_{i=1}^{N} \\frac{1}{2} \\hat{h}(x_{i}) \\cdot [\\theta(x_{i}) - \\frac{\\hat{g}(x_{i})}{\\hat{h}(x_{i})}]^{2} $ </center>\n",
    "\n",
    "## <center> $ \\hat{f}(x) = \\alpha \\cdot \\hat{\\theta}(x) $ </center>\n",
    "\n",
    "## <u> Update Model </u> \n",
    "\n",
    "## <center> $ \\hat{f}_{m+1}(x) = \\hat{f}_{m}(x) + \\hat{f}_{m-1}(x) $ </center>\n",
    "\n",
    "## <u> Output </u>\n",
    "\n",
    "## <center> $ \\hat{f}(x) = \\hat{f}_{M} = \\sum_{m=1}^{M} \\hat{f}_{m}(x) $ </center>"
   ]
  },
  {
   "cell_type": "code",
   "execution_count": null,
   "id": "bf2605e9",
   "metadata": {},
   "outputs": [],
   "source": []
  },
  {
   "cell_type": "code",
   "execution_count": null,
   "id": "ded38091",
   "metadata": {},
   "outputs": [],
   "source": []
  },
  {
   "cell_type": "code",
   "execution_count": null,
   "id": "2b88988d",
   "metadata": {},
   "outputs": [],
   "source": []
  },
  {
   "cell_type": "code",
   "execution_count": null,
   "id": "1770bbc4",
   "metadata": {},
   "outputs": [],
   "source": []
  }
 ],
 "metadata": {
  "kernelspec": {
   "display_name": "Python 3 (ipykernel)",
   "language": "python",
   "name": "python3"
  },
  "language_info": {
   "codemirror_mode": {
    "name": "ipython",
    "version": 3
   },
   "file_extension": ".py",
   "mimetype": "text/x-python",
   "name": "python",
   "nbconvert_exporter": "python",
   "pygments_lexer": "ipython3",
   "version": "3.11.4"
  }
 },
 "nbformat": 4,
 "nbformat_minor": 5
}
