{
 "cells": [
  {
   "cell_type": "markdown",
   "id": "5c289577",
   "metadata": {},
   "source": [
    "# <center> <u> Interest Rate Dynamics </u> </center> "
   ]
  },
  {
   "cell_type": "code",
   "execution_count": 1,
   "id": "a94d6801",
   "metadata": {},
   "outputs": [],
   "source": [
    "import requests\n",
    "import yfinance as yf\n",
    "import numpy as np\n",
    "import pandas as pd \n",
    "\n",
    "from numba import jit, prange\n",
    "from scipy import stats\n",
    "\n",
    "import seaborn as sns\n",
    "import matplotlib.pyplot as plt "
   ]
  },
  {
   "cell_type": "markdown",
   "id": "8b0d7f23",
   "metadata": {},
   "source": [
    "## <center> Set Seaborn Theme </center>"
   ]
  },
  {
   "cell_type": "code",
   "execution_count": 2,
   "id": "756c1d40",
   "metadata": {},
   "outputs": [],
   "source": [
    "sns.set_theme(\n",
    "    style = \"darkgrid\",\n",
    "    palette = \"bright\",\n",
    ")\n",
    "\n",
    "plt.rc('figure', figsize = (10, 5))"
   ]
  },
  {
   "cell_type": "markdown",
   "id": "6b8949da",
   "metadata": {},
   "source": [
    "## <center> Fetch Treasury Data </center> "
   ]
  },
  {
   "cell_type": "code",
   "execution_count": 23,
   "id": "d81214d9",
   "metadata": {},
   "outputs": [],
   "source": [
    "resp = requests.get(\"https://api.fiscaldata.treasury.gov/services/api/fiscal_service/v2/accounting/od/avg_interest_rates\")"
   ]
  },
  {
   "cell_type": "code",
   "execution_count": 19,
   "id": "f06332dd",
   "metadata": {},
   "outputs": [],
   "source": [
    "json = resp.json()"
   ]
  },
  {
   "cell_type": "code",
   "execution_count": 20,
   "id": "43964014",
   "metadata": {},
   "outputs": [],
   "source": [
    "data = json[\"data\"]"
   ]
  },
  {
   "cell_type": "code",
   "execution_count": 21,
   "id": "33286093",
   "metadata": {},
   "outputs": [
    {
     "data": {
      "text/plain": [
       "[('Treasury Notes', '6.096'),\n",
       " ('Treasury Bonds', '8.450'),\n",
       " ('Treasury Inflation-Indexed Notes', '3.772'),\n",
       " ('Treasury Inflation-Indexed Bonds', '3.866'),\n",
       " ('Federal Financing Bank', '8.917'),\n",
       " ('Total Marketable', '6.620'),\n",
       " ('Domestic Series', '7.934'),\n",
       " ('Foreign Series', '7.196'),\n",
       " ('R.E.A. Series', '5.000'),\n",
       " ('State and Local Government Series', '5.576'),\n",
       " ('United States Savings Securities', '6.224'),\n",
       " ('Government Account Series', '6.650'),\n",
       " ('Total Non-marketable', '6.567'),\n",
       " ('Total Interest-bearing Debt', '6.594'),\n",
       " ('Treasury Bills', '6.059'),\n",
       " ('Treasury Bills', '5.755'),\n",
       " ('Treasury Notes', '6.076'),\n",
       " ('Treasury Bonds', '8.389'),\n",
       " ('Treasury Inflation-Indexed Notes', '3.772'),\n",
       " ('Treasury Inflation-Indexed Bonds', '3.866'),\n",
       " ('Federal Financing Bank', '8.917'),\n",
       " ('Total Marketable', '6.528'),\n",
       " ('Domestic Series', '7.934'),\n",
       " ('Foreign Series', '7.165'),\n",
       " ('R.E.A. Series', '5.000'),\n",
       " ('State and Local Government Series', '5.531'),\n",
       " ('United States Savings Securities', '6.217'),\n",
       " ('Government Account Series', '6.572'),\n",
       " ('Total Non-marketable', '6.495'),\n",
       " ('Total Interest-bearing Debt', '6.512'),\n",
       " ('Total Non-marketable', '6.508'),\n",
       " ('Total Interest-bearing Debt', '6.470'),\n",
       " ('Treasury Bills', '5.369'),\n",
       " ('Treasury Notes', '6.088'),\n",
       " ('Treasury Bonds', '8.392'),\n",
       " ('Treasury Inflation-Indexed Notes', '3.772'),\n",
       " ('Treasury Inflation-Indexed Bonds', '3.866'),\n",
       " ('Federal Financing Bank', '8.917'),\n",
       " ('Total Marketable', '6.435'),\n",
       " ('Domestic Series', '7.934'),\n",
       " ('Foreign Series', '7.197'),\n",
       " ('R.E.A. Series', '5.000'),\n",
       " ('State and Local Government Series', '5.503'),\n",
       " ('United States Savings Securities', '6.264'),\n",
       " ('United States Savings Inflation Securities', '3.464'),\n",
       " ('Government Account Series', '6.588'),\n",
       " ('Treasury Bills', '5.076'),\n",
       " ('Treasury Notes', '6.066'),\n",
       " ('Treasury Bonds', '8.382'),\n",
       " ('Treasury Inflation-Indexed Notes', '3.772'),\n",
       " ('Treasury Inflation-Indexed Bonds', '3.866'),\n",
       " ('Federal Financing Bank', '8.917'),\n",
       " ('Total Marketable', '6.389'),\n",
       " ('Domestic Series', '7.934'),\n",
       " ('Foreign Series', '7.235'),\n",
       " ('R.E.A. Series', '5.000'),\n",
       " ('State and Local Government Series', '5.450'),\n",
       " ('United States Savings Securities', '6.261'),\n",
       " ('United States Savings Inflation Securities', '3.458'),\n",
       " ('Government Account Series', '6.538'),\n",
       " ('Total Non-marketable', '6.463'),\n",
       " ('Total Interest-bearing Debt', '6.426'),\n",
       " ('Treasury Bills', '4.560'),\n",
       " ('Treasury Notes', '6.021'),\n",
       " ('Treasury Bonds', '8.366'),\n",
       " ('Treasury Inflation-Indexed Notes', '3.772'),\n",
       " ('Treasury Inflation-Indexed Bonds', '3.866'),\n",
       " ('Federal Financing Bank', '8.917'),\n",
       " ('Total Marketable', '6.243'),\n",
       " ('Domestic Series', '7.934'),\n",
       " ('Foreign Series', '7.226'),\n",
       " ('R.E.A. Series', '5.000'),\n",
       " ('State and Local Government Series', '5.398'),\n",
       " ('United States Savings Securities', '6.257'),\n",
       " ('United States Savings Inflation Securities', '3.440'),\n",
       " ('Government Account Series', '6.519'),\n",
       " ('Total Non-marketable', '6.444'),\n",
       " ('Total Interest-bearing Debt', '6.344'),\n",
       " ('Treasury Bills', '4.216'),\n",
       " ('Treasury Notes', '6.018'),\n",
       " ('Treasury Bonds', '8.361'),\n",
       " ('Treasury Inflation-Indexed Notes', '3.772'),\n",
       " ('Treasury Inflation-Indexed Bonds', '3.866'),\n",
       " ('Federal Financing Bank', '8.917'),\n",
       " ('Total Marketable', '6.162'),\n",
       " ('Domestic Series', '7.934'),\n",
       " ('Foreign Series', '7.184'),\n",
       " ('R.E.A. Series', '5.000'),\n",
       " ('State and Local Government Series', '5.408'),\n",
       " ('United States Savings Securities', '6.252'),\n",
       " ('United States Savings Inflation Securities', '3.414'),\n",
       " ('Government Account Series', '6.415'),\n",
       " ('Total Non-marketable', '6.355'),\n",
       " ('Total Interest-bearing Debt', '6.261'),\n",
       " ('Treasury Bills', '3.994'),\n",
       " ('Treasury Notes', '5.975'),\n",
       " ('Treasury Bonds', '8.359'),\n",
       " ('Treasury Inflation-Indexed Notes', '3.756'),\n",
       " ('Treasury Inflation-Indexed Bonds', '3.866'),\n",
       " ('Federal Financing Bank', '8.917')]"
      ]
     },
     "execution_count": 21,
     "metadata": {},
     "output_type": "execute_result"
    }
   ],
   "source": [
    "[(d['security_desc'], d[\"avg_interest_rate_amt\"]) for d in data]"
   ]
  },
  {
   "cell_type": "code",
   "execution_count": 27,
   "id": "31689338",
   "metadata": {},
   "outputs": [
    {
     "data": {
      "text/plain": [
       "[('Treasury Notes', '6.096'),\n",
       " ('Treasury Bonds', '8.450'),\n",
       " ('Treasury Inflation-Indexed Notes', '3.772'),\n",
       " ('Treasury Inflation-Indexed Bonds', '3.866'),\n",
       " ('Federal Financing Bank', '8.917'),\n",
       " ('Total Marketable', '6.620'),\n",
       " ('Domestic Series', '7.934'),\n",
       " ('Foreign Series', '7.196'),\n",
       " ('R.E.A. Series', '5.000'),\n",
       " ('State and Local Government Series', '5.576'),\n",
       " ('United States Savings Securities', '6.224'),\n",
       " ('Government Account Series', '6.650'),\n",
       " ('Total Non-marketable', '6.567'),\n",
       " ('Total Interest-bearing Debt', '6.594'),\n",
       " ('Treasury Bills', '6.059'),\n",
       " ('Treasury Bills', '5.755'),\n",
       " ('Treasury Notes', '6.076'),\n",
       " ('Treasury Bonds', '8.389'),\n",
       " ('Treasury Inflation-Indexed Notes', '3.772'),\n",
       " ('Treasury Inflation-Indexed Bonds', '3.866'),\n",
       " ('Federal Financing Bank', '8.917'),\n",
       " ('Total Marketable', '6.528'),\n",
       " ('Domestic Series', '7.934'),\n",
       " ('Foreign Series', '7.165'),\n",
       " ('R.E.A. Series', '5.000'),\n",
       " ('State and Local Government Series', '5.531'),\n",
       " ('United States Savings Securities', '6.217'),\n",
       " ('Government Account Series', '6.572'),\n",
       " ('Total Non-marketable', '6.495'),\n",
       " ('Total Interest-bearing Debt', '6.512'),\n",
       " ('Total Non-marketable', '6.508'),\n",
       " ('Total Interest-bearing Debt', '6.470'),\n",
       " ('Treasury Bills', '5.369'),\n",
       " ('Treasury Notes', '6.088'),\n",
       " ('Treasury Bonds', '8.392'),\n",
       " ('Treasury Inflation-Indexed Notes', '3.772'),\n",
       " ('Treasury Inflation-Indexed Bonds', '3.866'),\n",
       " ('Federal Financing Bank', '8.917'),\n",
       " ('Total Marketable', '6.435'),\n",
       " ('Domestic Series', '7.934'),\n",
       " ('Foreign Series', '7.197'),\n",
       " ('R.E.A. Series', '5.000'),\n",
       " ('State and Local Government Series', '5.503'),\n",
       " ('United States Savings Securities', '6.264'),\n",
       " ('United States Savings Inflation Securities', '3.464'),\n",
       " ('Government Account Series', '6.588'),\n",
       " ('Treasury Bills', '5.076'),\n",
       " ('Treasury Notes', '6.066'),\n",
       " ('Treasury Bonds', '8.382'),\n",
       " ('Treasury Inflation-Indexed Notes', '3.772'),\n",
       " ('Treasury Inflation-Indexed Bonds', '3.866'),\n",
       " ('Federal Financing Bank', '8.917'),\n",
       " ('Total Marketable', '6.389'),\n",
       " ('Domestic Series', '7.934'),\n",
       " ('Foreign Series', '7.235'),\n",
       " ('R.E.A. Series', '5.000'),\n",
       " ('State and Local Government Series', '5.450'),\n",
       " ('United States Savings Securities', '6.261'),\n",
       " ('United States Savings Inflation Securities', '3.458'),\n",
       " ('Government Account Series', '6.538'),\n",
       " ('Total Non-marketable', '6.463'),\n",
       " ('Total Interest-bearing Debt', '6.426'),\n",
       " ('Treasury Bills', '4.560'),\n",
       " ('Treasury Notes', '6.021'),\n",
       " ('Treasury Bonds', '8.366'),\n",
       " ('Treasury Inflation-Indexed Notes', '3.772'),\n",
       " ('Treasury Inflation-Indexed Bonds', '3.866'),\n",
       " ('Federal Financing Bank', '8.917'),\n",
       " ('Total Marketable', '6.243'),\n",
       " ('Domestic Series', '7.934'),\n",
       " ('Foreign Series', '7.226'),\n",
       " ('R.E.A. Series', '5.000'),\n",
       " ('State and Local Government Series', '5.398'),\n",
       " ('United States Savings Securities', '6.257'),\n",
       " ('United States Savings Inflation Securities', '3.440'),\n",
       " ('Government Account Series', '6.519'),\n",
       " ('Total Non-marketable', '6.444'),\n",
       " ('Total Interest-bearing Debt', '6.344'),\n",
       " ('Treasury Bills', '4.216'),\n",
       " ('Treasury Notes', '6.018'),\n",
       " ('Treasury Bonds', '8.361'),\n",
       " ('Treasury Inflation-Indexed Notes', '3.772'),\n",
       " ('Treasury Inflation-Indexed Bonds', '3.866'),\n",
       " ('Federal Financing Bank', '8.917'),\n",
       " ('Total Marketable', '6.162'),\n",
       " ('Domestic Series', '7.934'),\n",
       " ('Foreign Series', '7.184'),\n",
       " ('R.E.A. Series', '5.000'),\n",
       " ('State and Local Government Series', '5.408'),\n",
       " ('United States Savings Securities', '6.252'),\n",
       " ('United States Savings Inflation Securities', '3.414'),\n",
       " ('Government Account Series', '6.415'),\n",
       " ('Total Non-marketable', '6.355'),\n",
       " ('Total Interest-bearing Debt', '6.261'),\n",
       " ('Treasury Bills', '3.994'),\n",
       " ('Treasury Notes', '5.975'),\n",
       " ('Treasury Bonds', '8.359'),\n",
       " ('Treasury Inflation-Indexed Notes', '3.756'),\n",
       " ('Treasury Inflation-Indexed Bonds', '3.866'),\n",
       " ('Federal Financing Bank', '8.917')]"
      ]
     },
     "execution_count": 27,
     "metadata": {},
     "output_type": "execute_result"
    }
   ],
   "source": [
    "list(map(lambda d: (d['security_desc'], d[\"avg_interest_rate_amt\"]), data))"
   ]
  },
  {
   "cell_type": "code",
   "execution_count": null,
   "id": "27274078",
   "metadata": {},
   "outputs": [],
   "source": []
  },
  {
   "cell_type": "code",
   "execution_count": null,
   "id": "6d8d1fce",
   "metadata": {},
   "outputs": [],
   "source": []
  },
  {
   "cell_type": "code",
   "execution_count": null,
   "id": "5eccf332",
   "metadata": {},
   "outputs": [],
   "source": []
  },
  {
   "cell_type": "code",
   "execution_count": null,
   "id": "5f8a501d",
   "metadata": {},
   "outputs": [],
   "source": []
  },
  {
   "cell_type": "code",
   "execution_count": null,
   "id": "3d5b7a07",
   "metadata": {},
   "outputs": [],
   "source": []
  },
  {
   "cell_type": "code",
   "execution_count": null,
   "id": "8a938fb4",
   "metadata": {},
   "outputs": [],
   "source": []
  },
  {
   "cell_type": "code",
   "execution_count": null,
   "id": "2b241d8c",
   "metadata": {},
   "outputs": [],
   "source": []
  }
 ],
 "metadata": {
  "kernelspec": {
   "display_name": "Python 3 (ipykernel)",
   "language": "python",
   "name": "python3"
  },
  "language_info": {
   "codemirror_mode": {
    "name": "ipython",
    "version": 3
   },
   "file_extension": ".py",
   "mimetype": "text/x-python",
   "name": "python",
   "nbconvert_exporter": "python",
   "pygments_lexer": "ipython3",
   "version": "3.10.2"
  }
 },
 "nbformat": 4,
 "nbformat_minor": 5
}
